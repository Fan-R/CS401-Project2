{
 "cells": [
  {
   "cell_type": "code",
   "execution_count": 1,
   "id": "0efcbf72",
   "metadata": {},
   "outputs": [],
   "source": [
    "import pandas as pd\n",
    "from sklearn.feature_extraction.text import TfidfVectorizer"
   ]
  },
  {
   "cell_type": "code",
   "execution_count": 2,
   "id": "d7f594ac",
   "metadata": {},
   "outputs": [],
   "source": [
    "df_train = pd.read_csv('training.csv',sep = ';')\n",
    "df_test = pd.read_csv('test.csv',sep = ';')"
   ]
  },
  {
   "cell_type": "code",
   "execution_count": 3,
   "id": "ac1463e9",
   "metadata": {},
   "outputs": [],
   "source": [
    "train = df_train[['text','country_code']].copy()\n",
    "train['is_US'] = 0\n",
    "train.loc[train['country_code'] == 'US','is_US']=1\n",
    "\n",
    "test = df_test[['text','country_code']].copy()\n",
    "test['is_US'] = 0\n",
    "test.loc[test['country_code'] == 'US','is_US']=1"
   ]
  },
  {
   "cell_type": "code",
   "execution_count": 4,
   "id": "7dc919fe",
   "metadata": {},
   "outputs": [
    {
     "name": "stdout",
     "output_type": "stream",
     "text": [
      "(9999, 38452)\n",
      "(29999, 38452)\n"
     ]
    }
   ],
   "source": [
    "from sklearn.feature_extraction.text import TfidfVectorizer\n",
    "TF_vectorizer = TfidfVectorizer(stop_words='english')\n",
    "X_train = TF_vectorizer.fit_transform(train['text'])\n",
    "print(X_train.shape)\n",
    "\n",
    "X_test = TF_vectorizer.transform(test['text'])\n",
    "print(X_test.shape)\n"
   ]
  },
  {
   "cell_type": "code",
   "execution_count": 6,
   "id": "3b87ad95",
   "metadata": {},
   "outputs": [],
   "source": [
    "y_train = train['is_US']\n",
    "y_test = test['is_US']"
   ]
  },
  {
   "cell_type": "code",
   "execution_count": 7,
   "id": "71d2fdaa",
   "metadata": {},
   "outputs": [
    {
     "name": "stdout",
     "output_type": "stream",
     "text": [
      "train acc is 0.9273927392739274\n",
      "test acc is 0.7564918830627687\n"
     ]
    }
   ],
   "source": [
    "from sklearn.linear_model import LogisticRegression\n",
    "clf = LogisticRegression(random_state=0).fit(X_train,y_train)\n",
    "print(\"train acc is {}\".format(clf.score(X_train,y_train)))\n",
    "print(\"test acc is {}\".format(clf.score(X_test,y_test)))"
   ]
  },
  {
   "cell_type": "code",
   "execution_count": 9,
   "id": "7154e506",
   "metadata": {},
   "outputs": [
    {
     "data": {
      "text/plain": [
       "1"
      ]
     },
     "execution_count": 9,
     "metadata": {},
     "output_type": "execute_result"
    }
   ],
   "source": [
    "clf.predict(X_test[0])[0]"
   ]
  },
  {
   "cell_type": "code",
   "execution_count": null,
   "id": "f260f8f5",
   "metadata": {},
   "outputs": [],
   "source": []
  }
 ],
 "metadata": {
  "kernelspec": {
   "display_name": "Python 3 (ipykernel)",
   "language": "python",
   "name": "python3"
  },
  "language_info": {
   "codemirror_mode": {
    "name": "ipython",
    "version": 3
   },
   "file_extension": ".py",
   "mimetype": "text/x-python",
   "name": "python",
   "nbconvert_exporter": "python",
   "pygments_lexer": "ipython3",
   "version": "3.9.7"
  }
 },
 "nbformat": 4,
 "nbformat_minor": 5
}
